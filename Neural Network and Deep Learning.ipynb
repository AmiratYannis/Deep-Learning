{
 "cells": [
  {
   "cell_type": "markdown",
   "metadata": {},
   "source": [
    "<h1>Rapport de Deep Learning</h1>\n",
    "<h2>Implementation d'un reseau de neurones pour classifier des chiffres en écriture manuscrite</h2>\n",
    "<h3> Yannis Amirat - Cyril Lagelée - ESIEE 2021 E4FI</h3>\n",
    "\n",
    "\n",
    "\n",
    "Dans ce projet, nous suivons les instructions d'un livre dématérialisé situé à l'adresse http://neuralnetworksanddeeplearning.com afin de comprendre comment est implémenté un reseau de neurones de Deep Learning afin de classifier des chiffres en écriture manuscrite. \n",
    "Nous allons transcrire notre progréssion au cours de ce projet dans ce jupyter notebook afin que le lecteur puisse reproduire notre parcours.\n",
    "\n"
   ]
  },
  {
   "cell_type": "markdown",
   "metadata": {},
   "source": [
    "Au cours de ce livre, après une introduction à la structure des réseau de neurones et à une implémentation de descente de gradient, l'auteur nous redirige vers son git contenant les codes afin de suivre le déroulement de cette lecture."
   ]
  },
  {
   "cell_type": "markdown",
   "metadata": {},
   "source": [
    "<h3>Importation des codes fournies pour le projet</h3>"
   ]
  },
  {
   "cell_type": "code",
   "execution_count": 6,
   "metadata": {},
   "outputs": [],
   "source": [
    "import numpy as np\n",
    "import random\n",
    "import mnist_loader\n",
    "import network"
   ]
  },
  {
   "cell_type": "markdown",
   "metadata": {},
   "source": [
    "Numpy est une bibliothèque d'outils mathématique commune à Python. \n",
    "\n",
    "Random est un outil permet de générer des éléments pseudo-aléatoire. \n",
    "\n",
    "mnist_loader est un outil pour charger les données avec laquelle on va travailler provenant de Mixed National Institute of Standards and Technology. Ces données sont des scans de chiffres écrits à la main de 784 pixels.\n",
    "\n",
    "Network est une classe représentant une première forme d'implémentation d'un réseau de neurone. Dans cette classe est présent une implémentation d'un algorithme de descente de gradient stochastique. Dans cette implémentation, le poids et le biais sont initialisés aléatoirement pour démarrer l'algortithme. "
   ]
  },
  {
   "cell_type": "markdown",
   "metadata": {},
   "source": [
    "<h3>Initiation au réseau de neurones</h3>"
   ]
  },
  {
   "cell_type": "markdown",
   "metadata": {},
   "source": [
    "Afin de nous faire comprendre comment fonctionne cette implémentation de réseau de neurones, l'auteur nous fait construire un réseau de neurone en guise d'exemple."
   ]
  },
  {
   "cell_type": "code",
   "execution_count": 7,
   "metadata": {},
   "outputs": [
    {
     "name": "stdout",
     "output_type": "stream",
     "text": [
      "Epoch 0 : 8216 / 10000\n",
      "Epoch 1 : 9245 / 10000\n",
      "Epoch 2 : 9272 / 10000\n",
      "Epoch 3 : 9351 / 10000\n",
      "Epoch 4 : 9370 / 10000\n",
      "Epoch 5 : 9400 / 10000\n",
      "Epoch 6 : 9436 / 10000\n",
      "Epoch 7 : 9445 / 10000\n",
      "Epoch 8 : 9436 / 10000\n",
      "Epoch 9 : 9447 / 10000\n",
      "Epoch 10 : 9465 / 10000\n",
      "Epoch 11 : 9460 / 10000\n",
      "Epoch 12 : 9460 / 10000\n",
      "Epoch 13 : 9480 / 10000\n",
      "Epoch 14 : 9464 / 10000\n",
      "Epoch 15 : 9468 / 10000\n",
      "Epoch 16 : 9508 / 10000\n",
      "Epoch 17 : 9490 / 10000\n",
      "Epoch 18 : 9496 / 10000\n",
      "Epoch 19 : 9504 / 10000\n",
      "Epoch 20 : 9485 / 10000\n",
      "Epoch 21 : 9511 / 10000\n",
      "Epoch 22 : 9484 / 10000\n",
      "Epoch 23 : 9475 / 10000\n",
      "Epoch 24 : 9472 / 10000\n",
      "Epoch 25 : 9493 / 10000\n",
      "Epoch 26 : 9498 / 10000\n",
      "Epoch 27 : 9487 / 10000\n",
      "Epoch 28 : 9498 / 10000\n",
      "Epoch 29 : 9488 / 10000\n"
     ]
    }
   ],
   "source": [
    "input_layer=784 #Le nombre de neurones dans la couche d'entrée du réseau (784 pour le nombre de pixels des images)\n",
    "hidden_layer1=30 #nombre de neurones dans la 1ère couche cachée\n",
    "output_layer=10 #nombre de neurones dans la couche de sortie du réseau (10 pour les chiffres de 0 à 9)\n",
    "\n",
    "epoch=30 #nombre de fois que l'algorithme travaille sur le dataset d'entrainement\n",
    "size_batch=10 #nombre d'échantillons à traiter avant de mettre à jour le modèle interne du réseau\n",
    "learning_rate=3.0 #distance parcourut à chaque étape pour la descente de gradient\n",
    "\n",
    "#Chargement des données du MNIST \n",
    "training_data, validation_data, test_data =mnist_loader.load_data_wrapper() \n",
    "\n",
    "#Création du réseau de neurones avec nos paramètres\n",
    "net = network.Network([input_layer, hidden_layer1, output_layer])\n",
    "\n",
    "#Application de la descente de gradient stochastique \n",
    "# sur notre réseau de neurones avec comparaison sur des données de test pour évaluer la précision du réseau \n",
    "net.SGD(training_data, epoch, size_batch, learning_rate, test_data=test_data) "
   ]
  },
  {
   "cell_type": "markdown",
   "metadata": {},
   "source": [
    "Dans le livre, l'auteur obtient un pourcentage de 95,42% à son meilleur epoch qu'il trouve prometteur. De notre coté, nous obtenons un résultat légérement différent en raison des biais et des poids aléatoire à l'initialisation. \n",
    "Ce qui nous donne 95,11% à l'epoch 21 ce qui représente en effet un bon résultat de reconnaissance de chiffres sur 10000 chiffres.\n",
    "Suite à celà, l'auteur nous propose de tester avec 100 neurones sur la couche cachée et différents learning rate afin d'en observer les résultats. \n",
    "\n",
    "Nous commençons avec un learning rate de 0.001 que l'on va faire progressivement augmenter. "
   ]
  },
  {
   "cell_type": "code",
   "execution_count": 8,
   "metadata": {},
   "outputs": [
    {
     "name": "stdout",
     "output_type": "stream",
     "text": [
      "Epoch 0 : 933 / 10000\n",
      "Epoch 1 : 1129 / 10000\n",
      "Epoch 2 : 1342 / 10000\n",
      "Epoch 3 : 1468 / 10000\n",
      "Epoch 4 : 1593 / 10000\n",
      "Epoch 5 : 1680 / 10000\n",
      "Epoch 6 : 1778 / 10000\n",
      "Epoch 7 : 1883 / 10000\n",
      "Epoch 8 : 1971 / 10000\n",
      "Epoch 9 : 2034 / 10000\n",
      "Epoch 10 : 2105 / 10000\n",
      "Epoch 11 : 2165 / 10000\n",
      "Epoch 12 : 2218 / 10000\n",
      "Epoch 13 : 2287 / 10000\n",
      "Epoch 14 : 2342 / 10000\n",
      "Epoch 15 : 2382 / 10000\n",
      "Epoch 16 : 2444 / 10000\n",
      "Epoch 17 : 2487 / 10000\n",
      "Epoch 18 : 2541 / 10000\n",
      "Epoch 19 : 2589 / 10000\n",
      "Epoch 20 : 2631 / 10000\n",
      "Epoch 21 : 2675 / 10000\n",
      "Epoch 22 : 2707 / 10000\n",
      "Epoch 23 : 2750 / 10000\n",
      "Epoch 24 : 2796 / 10000\n",
      "Epoch 25 : 2842 / 10000\n",
      "Epoch 26 : 2867 / 10000\n",
      "Epoch 27 : 2908 / 10000\n",
      "Epoch 28 : 2936 / 10000\n",
      "Epoch 29 : 2987 / 10000\n"
     ]
    }
   ],
   "source": [
    "hidden_layer1=100 #nombre de neurones dans la 1ère couche cachée\n",
    "learning_rate=0.001 #distance parcourut à chaque étape pour la descente de gradient\n",
    "\n",
    "#Rechargement des données du MNIST, afin de repartir sur un état brute \n",
    "training_data, validation_data, test_data =mnist_loader.load_data_wrapper() \n",
    "\n",
    "#Création du réseau de neurones avec nos paramètres\n",
    "net = network.Network([input_layer, hidden_layer1, output_layer])\n",
    "net.SGD(training_data, epoch, size_batch, learning_rate, test_data=test_data) "
   ]
  },
  {
   "cell_type": "markdown",
   "metadata": {},
   "source": [
    "Comme l'auteur l'a suggéré des paramètres incorrectement défini peut causer une lenteur de l'execution mais aussi de très mauvais résultat. \n",
    "Malgré l'ajout de 70 neurones à notre couche caché, le meilleur résultat qu'on a obtenu est de l'ordre de 29.87% avec un learning rate de 0.001. \n",
    "Ce dernier suggère que notre learning rate est en effet la source de nos faibles résultats et suggère d'effectuer plusieurs executions en augmentant le learning rate et d'en observer les résultats. "
   ]
  },
  {
   "cell_type": "code",
   "execution_count": 9,
   "metadata": {},
   "outputs": [
    {
     "name": "stdout",
     "output_type": "stream",
     "text": [
      "Epoch 0 : 1759 / 10000\n",
      "Epoch 1 : 1851 / 10000\n",
      "Epoch 2 : 1931 / 10000\n",
      "Epoch 3 : 2028 / 10000\n",
      "Epoch 4 : 2091 / 10000\n",
      "Epoch 5 : 2146 / 10000\n",
      "Epoch 6 : 2196 / 10000\n",
      "Epoch 7 : 2283 / 10000\n",
      "Epoch 8 : 2344 / 10000\n",
      "Epoch 9 : 2412 / 10000\n",
      "Epoch 10 : 2491 / 10000\n",
      "Epoch 11 : 2568 / 10000\n",
      "Epoch 12 : 2651 / 10000\n",
      "Epoch 13 : 2800 / 10000\n",
      "Epoch 14 : 2940 / 10000\n",
      "Epoch 15 : 3072 / 10000\n",
      "Epoch 16 : 3215 / 10000\n",
      "Epoch 17 : 3348 / 10000\n",
      "Epoch 18 : 3453 / 10000\n",
      "Epoch 19 : 3600 / 10000\n",
      "Epoch 20 : 3765 / 10000\n",
      "Epoch 21 : 3901 / 10000\n",
      "Epoch 22 : 4047 / 10000\n",
      "Epoch 23 : 4171 / 10000\n",
      "Epoch 24 : 4290 / 10000\n",
      "Epoch 25 : 4429 / 10000\n",
      "Epoch 26 : 4549 / 10000\n",
      "Epoch 27 : 4660 / 10000\n",
      "Epoch 28 : 4801 / 10000\n",
      "Epoch 29 : 4905 / 10000\n"
     ]
    }
   ],
   "source": [
    "hidden_layer1=100 #nombre de neurones dans la 1ère couche cachée\n",
    "learning_rate=0.01 #distance parcourut à chaque étape pour la descente de gradient\n",
    "\n",
    "#Rechargement des données du MNIST, afin de repartir sur un état brute \n",
    "training_data, validation_data, test_data =mnist_loader.load_data_wrapper() \n",
    "\n",
    "#Création du réseau de neurones avec nos paramètres\n",
    "net = network.Network([input_layer, hidden_layer1, output_layer])\n",
    "net.SGD(training_data, epoch, size_batch, learning_rate, test_data=test_data) "
   ]
  },
  {
   "cell_type": "markdown",
   "metadata": {},
   "source": [
    "En changeant le learning rate de 0.001 à 0.01. Nous pouvons observer une progréssion significatif de notre pourcentage d'environ 20% qui est dorénavant de 49.05%. Nous pouvons supposer qu'une augmentation du learning rate augmentera ce pourcentage de nouveau. "
   ]
  },
  {
   "cell_type": "code",
   "execution_count": 18,
   "metadata": {},
   "outputs": [
    {
     "name": "stdout",
     "output_type": "stream",
     "text": [
      "Epoch 0 complete\n",
      "Epoch 1 complete\n",
      "Epoch 2 complete\n",
      "Epoch 3 complete\n",
      "Epoch 4 complete\n",
      "Epoch 5 complete\n",
      "Epoch 6 complete\n",
      "Epoch 7 complete\n",
      "Epoch 8 complete\n",
      "Epoch 9 complete\n",
      "Epoch 10 complete\n",
      "Epoch 11 complete\n",
      "Epoch 12 complete\n",
      "Epoch 13 complete\n",
      "Epoch 14 complete\n",
      "Epoch 15 complete\n",
      "Epoch 16 complete\n",
      "Epoch 17 complete\n",
      "Epoch 18 complete\n",
      "Epoch 19 complete\n",
      "Epoch 20 complete\n",
      "Epoch 21 complete\n",
      "Epoch 22 complete\n",
      "Epoch 23 complete\n",
      "Epoch 24 complete\n",
      "Epoch 25 complete\n",
      "Epoch 26 complete\n",
      "Epoch 27 complete\n",
      "Epoch 28 complete\n",
      "Epoch 29 complete\n"
     ]
    }
   ],
   "source": [
    "net=network.Network([784, 100, 10])\n",
    "net.SGD(training_data, 30, 10, 0.1, test_data=test_data)"
   ]
  },
  {
   "cell_type": "code",
   "execution_count": 19,
   "metadata": {},
   "outputs": [
    {
     "name": "stdout",
     "output_type": "stream",
     "text": [
      "Epoch 0 complete\n",
      "Epoch 1 complete\n",
      "Epoch 2 complete\n",
      "Epoch 3 complete\n",
      "Epoch 4 complete\n",
      "Epoch 5 complete\n",
      "Epoch 6 complete\n",
      "Epoch 7 complete\n",
      "Epoch 8 complete\n",
      "Epoch 9 complete\n",
      "Epoch 10 complete\n",
      "Epoch 11 complete\n",
      "Epoch 12 complete\n",
      "Epoch 13 complete\n",
      "Epoch 14 complete\n",
      "Epoch 15 complete\n",
      "Epoch 16 complete\n",
      "Epoch 17 complete\n",
      "Epoch 18 complete\n",
      "Epoch 19 complete\n",
      "Epoch 20 complete\n",
      "Epoch 21 complete\n",
      "Epoch 22 complete\n",
      "Epoch 23 complete\n",
      "Epoch 24 complete\n",
      "Epoch 25 complete\n",
      "Epoch 26 complete\n",
      "Epoch 27 complete\n",
      "Epoch 28 complete\n",
      "Epoch 29 complete\n"
     ]
    }
   ],
   "source": [
    "net=network.Network([784, 100, 10])\n",
    "net.SGD(training_data, 30, 10, 1.0, test_data=test_data)"
   ]
  },
  {
   "cell_type": "code",
   "execution_count": 20,
   "metadata": {},
   "outputs": [
    {
     "name": "stdout",
     "output_type": "stream",
     "text": [
      "Epoch 0 complete\n",
      "Epoch 1 complete\n",
      "Epoch 2 complete\n",
      "Epoch 3 complete\n",
      "Epoch 4 complete\n",
      "Epoch 5 complete\n",
      "Epoch 6 complete\n",
      "Epoch 7 complete\n",
      "Epoch 8 complete\n",
      "Epoch 9 complete\n",
      "Epoch 10 complete\n",
      "Epoch 11 complete\n",
      "Epoch 12 complete\n",
      "Epoch 13 complete\n",
      "Epoch 14 complete\n",
      "Epoch 15 complete\n",
      "Epoch 16 complete\n",
      "Epoch 17 complete\n",
      "Epoch 18 complete\n",
      "Epoch 19 complete\n",
      "Epoch 20 complete\n",
      "Epoch 21 complete\n",
      "Epoch 22 complete\n",
      "Epoch 23 complete\n",
      "Epoch 24 complete\n",
      "Epoch 25 complete\n",
      "Epoch 26 complete\n",
      "Epoch 27 complete\n",
      "Epoch 28 complete\n",
      "Epoch 29 complete\n"
     ]
    }
   ],
   "source": [
    "net=network.Network([784, 100, 10])\n",
    "net.SGD(training_data, 30, 10, 2.0, test_data=test_data)"
   ]
  },
  {
   "cell_type": "code",
   "execution_count": 13,
   "metadata": {},
   "outputs": [
    {
     "name": "stdout",
     "output_type": "stream",
     "text": [
      "Epoch 0 complete\n",
      "Epoch 1 complete\n",
      "Epoch 2 complete\n",
      "Epoch 3 complete\n",
      "Epoch 4 complete\n",
      "Epoch 5 complete\n",
      "Epoch 6 complete\n",
      "Epoch 7 complete\n",
      "Epoch 8 complete\n",
      "Epoch 9 complete\n",
      "Epoch 10 complete\n",
      "Epoch 11 complete\n",
      "Epoch 12 complete\n",
      "Epoch 13 complete\n",
      "Epoch 14 complete\n",
      "Epoch 15 complete\n",
      "Epoch 16 complete\n",
      "Epoch 17 complete\n",
      "Epoch 18 complete\n",
      "Epoch 19 complete\n",
      "Epoch 20 complete\n",
      "Epoch 21 complete\n",
      "Epoch 22 complete\n",
      "Epoch 23 complete\n",
      "Epoch 24 complete\n",
      "Epoch 25 complete\n",
      "Epoch 26 complete\n",
      "Epoch 27 complete\n",
      "Epoch 28 complete\n",
      "Epoch 29 complete\n"
     ]
    }
   ],
   "source": [
    "net=network.Network([784, 100, 10])\n",
    "net.SGD(training_data, 30, 10, 3.0, test_data=test_data)"
   ]
  },
  {
   "cell_type": "markdown",
   "metadata": {},
   "source": [
    "# Exercice\n",
    "Try creating a network with just two layers - an input and an output layer, no hidden layer - with 784 and 10 neurons, respectively. Train the network using stochastic gradient descent. What classification accuracy can you achieve?"
   ]
  },
  {
   "cell_type": "code",
   "execution_count": 28,
   "metadata": {},
   "outputs": [
    {
     "name": "stdout",
     "output_type": "stream",
     "text": [
      "Epoch 0 complete\n",
      "Epoch 1 complete\n",
      "Epoch 2 complete\n",
      "Epoch 3 complete\n",
      "Epoch 4 complete\n",
      "Epoch 5 complete\n",
      "Epoch 6 complete\n",
      "Epoch 7 complete\n",
      "Epoch 8 complete\n",
      "Epoch 9 complete\n",
      "Epoch 10 complete\n",
      "Epoch 11 complete\n",
      "Epoch 12 complete\n",
      "Epoch 13 complete\n",
      "Epoch 14 complete\n",
      "Epoch 15 complete\n",
      "Epoch 16 complete\n",
      "Epoch 17 complete\n",
      "Epoch 18 complete\n",
      "Epoch 19 complete\n",
      "Epoch 20 complete\n",
      "Epoch 21 complete\n",
      "Epoch 22 complete\n",
      "Epoch 23 complete\n",
      "Epoch 24 complete\n",
      "Epoch 25 complete\n",
      "Epoch 26 complete\n",
      "Epoch 27 complete\n",
      "Epoch 28 complete\n",
      "Epoch 29 complete\n"
     ]
    }
   ],
   "source": [
    "net=network.Network([784,10])\n",
    "net.SGD(training_data, 30, 10, 0.001, test_data=test_data)"
   ]
  },
  {
   "cell_type": "markdown",
   "metadata": {},
   "source": [
    "# Observation Exercice\n",
    "Nous achevons une precision de classification de 100%, cela semble relatif au problème précédemment mentionné sachant qu'on envoit de l'input à l'output sans passer par des couches cachées. "
   ]
  },
  {
   "cell_type": "code",
   "execution_count": null,
   "metadata": {},
   "outputs": [],
   "source": []
  },
  {
   "cell_type": "code",
   "execution_count": null,
   "metadata": {},
   "outputs": [],
   "source": []
  }
 ],
 "metadata": {
  "kernelspec": {
   "display_name": "Python 3",
   "language": "python",
   "name": "python3"
  },
  "language_info": {
   "codemirror_mode": {
    "name": "ipython",
    "version": 3
   },
   "file_extension": ".py",
   "mimetype": "text/x-python",
   "name": "python",
   "nbconvert_exporter": "python",
   "pygments_lexer": "ipython3",
   "version": "3.8.5"
  }
 },
 "nbformat": 4,
 "nbformat_minor": 4
}
