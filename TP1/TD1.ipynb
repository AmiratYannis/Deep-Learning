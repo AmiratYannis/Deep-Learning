{
 "cells": [
  {
   "cell_type": "markdown",
   "metadata": {},
   "source": [
    "# Adaptive Noise Cancellation\n",
    "Doctor, in trying to review the electroencephalogram (EEG) of a distracted graduate student, finds that the signal he would like to see has been contaminated by a 60-Hz noise source. He is examining the patient on-line and wants to view the best signal that can be obtained."
   ]
  },
  {
   "cell_type": "code",
   "execution_count": null,
   "metadata": {},
   "outputs": [],
   "source": [
    "import numpy as np\n",
    "import matplotlib.pyplot as plt\n",
    "from numpy.linalg import inv\n",
    "from keras import models\n",
    "from keras import layers\n",
    "from keras import optimizers"
   ]
  },
  {
   "cell_type": "markdown",
   "metadata": {},
   "source": [
    "\n",
    "# Obtain the pure EEG Signal $S(k)$ from the data file *Data_EEG.txt* "
   ]
  },
  {
   "cell_type": "code",
   "execution_count": null,
   "metadata": {},
   "outputs": [],
   "source": [
    "# Architecture of ADALINE of order 1:\n",
    "\n",
    "from IPython.display import Image\n",
    "Image(\"Adaline_Adaptive_Filter.png\")"
   ]
  },
  {
   "cell_type": "code",
   "execution_count": null,
   "metadata": {},
   "outputs": [],
   "source": [
    "S= np.loadtxt('Data_EEG.txt',skiprows=1,unpack=True)\n",
    "S_sqr=np.square(S)\n",
    "Mean_S_sqr=np.mean(S_sqr)\n",
    "n=len(S)"
   ]
  },
  {
   "cell_type": "markdown",
   "metadata": {},
   "source": [
    "# Create the unfiltered signal $t(k)=S(k)+m(k)$ \n",
    "- $S(k)$: is the **pure EEG signal**\n",
    "- $v(k)$: is the sampled sinusoidal electrical network signal (three times in a period) and considered as the input signal to ADALINE network and its output\n",
    "- $m(k)$:  is the noisy signal comming from the electrical network. \n",
    "- $t(k)$: is the unfiltered signal (t(k)=S(k)+m(k))\n",
    "- $a(k)$: is the estimation of the noisy signal m(k). \n",
    "- plot the pure signal $S(k)$ and unfiltered signal $T(k)$ in order to evaluate the filtering operated by ADALINE network."
   ]
  },
  {
   "cell_type": "code",
   "execution_count": null,
   "metadata": {},
   "outputs": [],
   "source": [
    "v=[]\n",
    "m=[]\n",
    "for i in range(30):\n",
    "     v=np.concatenate((v,[1.2*np.sin(2*np.pi*(1/3)), 1.2*np.sin(2*np.pi*(2/3)), 1.2*np.sin(2*np.pi*(3/3))]))\n",
    "     m=np.concatenate((m,[0.12*np.sin((2*np.pi*(1/3))+np.pi/2), 0.12*np.sin((2*np.pi*(2/3))+np.pi/2), 0.12*np.sin((2*np.pi*(3/3))+np.pi/2)]))\n",
    "\n",
    "# Contaminated output signal    \n",
    "t=S+m\n",
    "#..........................\n",
    "plt.figure(1,figsize=(12,5))\n",
    "plt.plot(S)\n",
    "plt.plot(t)\n",
    "plt.legend(('original signal','noisy signal'),loc='upper left')\n",
    "plt.title('Original and Noisy ECG Signal')\n",
    "plt.xlabel('number of samples')\n",
    "plt.ylabel('signal samples amplitude')\n",
    "plt.show()"
   ]
  },
  {
   "cell_type": "markdown",
   "metadata": {},
   "source": [
    "# Filter Order Selection\n",
    "ADALINE output $a(t)$ may be calculated based on:\n",
    "- a first order model given in the figure using the mathematical expression: $a(k)=w_{11}v(k)+w_{12}v(k-1)$ \n",
    "- a second order model given by  the mathematical expression:  $a(k)=w_{11}v(k)+w_{12}v(k-1)+ w_{13}v(k-2)$\n",
    "\n",
    "where the order is the number of retarded inputs signals used as input to neural network."
   ]
  },
  {
   "cell_type": "markdown",
   "metadata": {},
   "source": [
    "# First Order Filter Design:  Optimal Solution\n",
    "- The optimal solution is obtained by minimizing **least mean square** (LMS) between \n",
    "the unfiltered signal T(k) and the output of the second order filter given \n",
    "by $a(k)=w_{11}v(k)+w_{12}v(k-1)$. For more details please **see course slide nr.19**.\n",
    "- $Min_{(w_{11},w_{12})}\\frac{1}{n}\\|\\sum_1^n(T(k)-a(k))\\|$, where $n=dim(T)$\n",
    "- Let us note: $x=[w_1, b]^T$ and $ z=[v,1]^T \\Rightarrow a=x^Tz $ is the ADALINE output\n",
    "- Solution:  $w=R^{-1}h$ where  $h=E[tz]$ and   $R=E[zz^T]$ \n",
    "- In our calculation we have considered that the biais value $b=0$\n",
    "\n",
    " \n",
    "\n"
   ]
  },
  {
   "cell_type": "code",
   "execution_count": 21,
   "metadata": {},
   "outputs": [
    {
     "ename": "ValueError",
     "evalue": "The truth value of an array with more than one element is ambiguous. Use a.any() or a.all()",
     "output_type": "error",
     "traceback": [
      "\u001b[1;31m---------------------------------------------------------------------------\u001b[0m",
      "\u001b[1;31mValueError\u001b[0m                                Traceback (most recent call last)",
      "\u001b[1;32m<ipython-input-21-041fd2369fa9>\u001b[0m in \u001b[0;36m<module>\u001b[1;34m\u001b[0m\n\u001b[0;32m     38\u001b[0m     \u001b[1;31m# Minimizing the square of difference between target signal and ADALINE network output\u001b[0m\u001b[1;33m\u001b[0m\u001b[1;33m\u001b[0m\u001b[1;33m\u001b[0m\u001b[0m\n\u001b[0;32m     39\u001b[0m     \u001b[1;31m# Optimal solution (see course slide nr. 19)\u001b[0m\u001b[1;33m\u001b[0m\u001b[1;33m\u001b[0m\u001b[1;33m\u001b[0m\u001b[0m\n\u001b[1;32m---> 40\u001b[1;33m     \u001b[0mCov_R\u001b[0m\u001b[1;33m=\u001b[0m\u001b[0mnp\u001b[0m\u001b[1;33m.\u001b[0m\u001b[0mcov\u001b[0m\u001b[1;33m(\u001b[0m\u001b[0mv\u001b[0m\u001b[1;33m[\u001b[0m\u001b[1;36m2\u001b[0m\u001b[1;33m:\u001b[0m\u001b[1;36m90\u001b[0m\u001b[1;33m]\u001b[0m\u001b[1;33m,\u001b[0m \u001b[0mv\u001b[0m\u001b[1;33m[\u001b[0m\u001b[1;36m1\u001b[0m\u001b[1;33m:\u001b[0m\u001b[1;36m89\u001b[0m\u001b[1;33m]\u001b[0m\u001b[1;33m,\u001b[0m \u001b[0mv\u001b[0m\u001b[1;33m[\u001b[0m\u001b[1;36m0\u001b[0m\u001b[1;33m:\u001b[0m\u001b[1;36m88\u001b[0m\u001b[1;33m]\u001b[0m\u001b[1;33m)\u001b[0m\u001b[1;33m\u001b[0m\u001b[1;33m\u001b[0m\u001b[0m\n\u001b[0m\u001b[0;32m     41\u001b[0m     \u001b[0mCov_h\u001b[0m\u001b[1;33m=\u001b[0m\u001b[0mnp\u001b[0m\u001b[1;33m.\u001b[0m\u001b[0mdot\u001b[0m\u001b[1;33m(\u001b[0m\u001b[0mV\u001b[0m\u001b[1;33m,\u001b[0m\u001b[0mT\u001b[0m\u001b[1;33m.\u001b[0m\u001b[0mT\u001b[0m\u001b[1;33m)\u001b[0m\u001b[1;33m/\u001b[0m\u001b[0mlen\u001b[0m\u001b[1;33m(\u001b[0m\u001b[0mt\u001b[0m\u001b[1;33m[\u001b[0m\u001b[1;36m2\u001b[0m\u001b[1;33m:\u001b[0m\u001b[1;33m]\u001b[0m\u001b[1;33m)\u001b[0m\u001b[1;33m\u001b[0m\u001b[1;33m\u001b[0m\u001b[0m\n\u001b[0;32m     42\u001b[0m     \u001b[0mw1\u001b[0m\u001b[1;33m=\u001b[0m\u001b[0mnp\u001b[0m\u001b[1;33m.\u001b[0m\u001b[0mdot\u001b[0m\u001b[1;33m(\u001b[0m\u001b[0minv\u001b[0m\u001b[1;33m(\u001b[0m\u001b[0mCov_R\u001b[0m\u001b[1;33m)\u001b[0m\u001b[1;33m,\u001b[0m\u001b[0mCov_h\u001b[0m\u001b[1;33m.\u001b[0m\u001b[0mT\u001b[0m\u001b[1;33m)\u001b[0m\u001b[1;33m\u001b[0m\u001b[1;33m\u001b[0m\u001b[0m\n",
      "\u001b[1;32m<__array_function__ internals>\u001b[0m in \u001b[0;36mcov\u001b[1;34m(*args, **kwargs)\u001b[0m\n",
      "\u001b[1;32m~\\Anaconda3\\lib\\site-packages\\numpy\\lib\\function_base.py\u001b[0m in \u001b[0;36mcov\u001b[1;34m(m, y, rowvar, bias, ddof, fweights, aweights)\u001b[0m\n\u001b[0;32m   2405\u001b[0m \u001b[1;33m\u001b[0m\u001b[0m\n\u001b[0;32m   2406\u001b[0m     \u001b[0mX\u001b[0m \u001b[1;33m=\u001b[0m \u001b[0marray\u001b[0m\u001b[1;33m(\u001b[0m\u001b[0mm\u001b[0m\u001b[1;33m,\u001b[0m \u001b[0mndmin\u001b[0m\u001b[1;33m=\u001b[0m\u001b[1;36m2\u001b[0m\u001b[1;33m,\u001b[0m \u001b[0mdtype\u001b[0m\u001b[1;33m=\u001b[0m\u001b[0mdtype\u001b[0m\u001b[1;33m)\u001b[0m\u001b[1;33m\u001b[0m\u001b[1;33m\u001b[0m\u001b[0m\n\u001b[1;32m-> 2407\u001b[1;33m     \u001b[1;32mif\u001b[0m \u001b[1;32mnot\u001b[0m \u001b[0mrowvar\u001b[0m \u001b[1;32mand\u001b[0m \u001b[0mX\u001b[0m\u001b[1;33m.\u001b[0m\u001b[0mshape\u001b[0m\u001b[1;33m[\u001b[0m\u001b[1;36m0\u001b[0m\u001b[1;33m]\u001b[0m \u001b[1;33m!=\u001b[0m \u001b[1;36m1\u001b[0m\u001b[1;33m:\u001b[0m\u001b[1;33m\u001b[0m\u001b[1;33m\u001b[0m\u001b[0m\n\u001b[0m\u001b[0;32m   2408\u001b[0m         \u001b[0mX\u001b[0m \u001b[1;33m=\u001b[0m \u001b[0mX\u001b[0m\u001b[1;33m.\u001b[0m\u001b[0mT\u001b[0m\u001b[1;33m\u001b[0m\u001b[1;33m\u001b[0m\u001b[0m\n\u001b[0;32m   2409\u001b[0m     \u001b[1;32mif\u001b[0m \u001b[0mX\u001b[0m\u001b[1;33m.\u001b[0m\u001b[0mshape\u001b[0m\u001b[1;33m[\u001b[0m\u001b[1;36m0\u001b[0m\u001b[1;33m]\u001b[0m \u001b[1;33m==\u001b[0m \u001b[1;36m0\u001b[0m\u001b[1;33m:\u001b[0m\u001b[1;33m\u001b[0m\u001b[1;33m\u001b[0m\u001b[0m\n",
      "\u001b[1;31mValueError\u001b[0m: The truth value of an array with more than one element is ambiguous. Use a.any() or a.all()"
     ]
    }
   ],
   "source": [
    "case=\"3ordre\"\n",
    "if case=='1ordre': # case of third order filter calculation\n",
    "    n=len(t)-1\n",
    "    w=np.array([0 , 0]) # initial values of synaptic weights\n",
    "    b=0                 # initial values of baised value\n",
    "    a=np.zeros(len(t)-1); # initial value of ADALINE network output\n",
    "    V=np.array([v[1:90], v[0:89]]) #input signal\n",
    "    T=t[1:90] # target signal \n",
    "    \n",
    "    # Minimizing the square of difference between target signal and ADALINE network output\n",
    "    # Optimal solution (see course slide nr. 19)\n",
    "    Cov_R=np.cov(v[1:90], v[0:89])\n",
    "    Cov_h=np.dot(V,T.T)/len(t[1:])\n",
    "    w1=np.dot(inv(Cov_R),Cov_h.T)\n",
    "    a1=np.dot(w1.T,V) # simulate the ADALINE for optimal solution on input signals\n",
    "    e1=T-a1 # Initial filtered signal values\n",
    "    \n",
    "    plt.figure(2)\n",
    "    plt.plot(S[1:90])\n",
    "    plt.plot(e1)\n",
    "    plt.legend(('original signal','filtered signal'),loc='upper right')\n",
    "    plt.title('Filtered ECG Signal Obtained by Optimal Solution')\n",
    "    plt.xlabel('number of samples')\n",
    "    plt.ylabel('signal samples amplitude')\n",
    "    plt.show()\n",
    "    e=T-a\n",
    "    J=[]\n",
    "\n",
    "\n",
    "if case=='3ordre': # case of third order filter calculation\n",
    "    n=len(t)-1\n",
    "    w=np.array([0 ,0, 0]) # initial values of synaptic weights\n",
    "    b=0                 # initial values of baised value\n",
    "    a=np.zeros(len(t)-1); # initial value of ADALINE network output\n",
    "    V=np.array([v[2:90],v[1:89], v[0:88]]) #input signal\n",
    "    T=t[2:91] # target signal \n",
    "    \n",
    "    # Minimizing the square of difference between target signal and ADALINE network output\n",
    "    # Optimal solution (see course slide nr. 19)\n",
    "    Cov_R=np.cov(v[2:90], v[1:89], v[0:88])\n",
    "    Cov_h=np.dot(V,T.T)/len(t[2:])\n",
    "    w1=np.dot(inv(Cov_R),Cov_h.T)\n",
    "    a1=np.dot(w1.T,V) # simulate the ADALINE for optimal solution on input signals\n",
    "    e1=T-a1 # Initial filtered signal values\n",
    "    \n",
    "    plt.figure(2)\n",
    "    plt.plot(S[2:90])\n",
    "    plt.plot(e1)\n",
    "    plt.legend(('original signal','filtered signal'),loc='upper right')\n",
    "    plt.title('Filtered ECG Signal Obtained by Optimal Solution')\n",
    "    plt.xlabel('number of samples')\n",
    "    plt.ylabel('signal samples amplitude')\n",
    "    plt.show()\n",
    "    e=T-a\n",
    "    J=[]\n",
    "\n",
    "\n"
   ]
  },
  {
   "cell_type": "code",
   "execution_count": null,
   "metadata": {},
   "outputs": [],
   "source": []
  },
  {
   "cell_type": "code",
   "execution_count": null,
   "metadata": {},
   "outputs": [],
   "source": []
  },
  {
   "cell_type": "markdown",
   "metadata": {},
   "source": [
    "# First Order Filter Design: ADALINE Design Based on Iterative Solution \n",
    "- The optimal solution is obtained by minimizing **least mean square** (LMS) between the unfiletered signal $T(k)$ considered as target signal and the output of ADALINE network given by $a(k)=w_{11}v(k)+w_{12}v(k-1)$. **For more details please see course slide nr.23**.\n",
    "- There is no biaised value **b** considered for ADALINE\n",
    "- Problem: $Min_{(w_{11},w_{12})}\\frac{1}{n}\\|\\sum_1^n(T(k)-a(k))\\|$, where $n=dim(T)$ and $a(k)=w_{11}v(k)+w_{12}v(k-1)$\n",
    "- Problem: $Min_{(w_{11},w_{12})}\\frac{1}{n}\\|\\sum_1^n e(t)\\|$, where $n=dim(T)$\n",
    "- Algorithm:\n",
    "\\begin{eqnarray}\n",
    "w_i(k+1)&=&w_i(k)+2 \\alpha e(k)V^T(k) \\nonumber \\\\\n",
    "b_i(k+1)&=&b_i(k)+2\\alpha e(k)  \\nonumber\n",
    "\\end{eqnarray}"
   ]
  },
  {
   "cell_type": "markdown",
   "metadata": {},
   "source": [
    "# Second Order Filter Design: ADALINE Design based on Iterative Solution \n",
    "- The optimal solution is obtained by minimizing least mean square (LMS) between the unfiletered signal $T(k)$ considered as target signal and the output of ADALINE network given by $a(k)=w_{11}v(k)+w_{12}v(k-1)+ w_{13}v(k-2)$."
   ]
  },
  {
   "cell_type": "code",
   "execution_count": 23,
   "metadata": {},
   "outputs": [
    {
     "data": {
      "image/png": "[encoded data removed]",
      "text/plain": [
       "<Figure size 432x288 with 1 Axes>"
      ]
     },
     "metadata": {
      "needs_background": "light"
     },
     "output_type": "display_data"
    },
    {
     "ename": "TypeError",
     "evalue": "'NoneType' object is not callable",
     "output_type": "error",
     "traceback": [
      "\u001b[1;31m---------------------------------------------------------------------------\u001b[0m",
      "\u001b[1;31mTypeError\u001b[0m                                 Traceback (most recent call last)",
      "\u001b[1;32m<ipython-input-23-d625bf0ce876>\u001b[0m in \u001b[0;36m<module>\u001b[1;34m\u001b[0m\n\u001b[0;32m     36\u001b[0m \u001b[0mplt\u001b[0m\u001b[1;33m.\u001b[0m\u001b[0mlegend\u001b[0m\u001b[1;33m(\u001b[0m\u001b[1;33m(\u001b[0m\u001b[1;34m'original'\u001b[0m\u001b[1;33m)\u001b[0m\u001b[1;33m)\u001b[0m\u001b[1;33m\u001b[0m\u001b[1;33m\u001b[0m\u001b[0m\n\u001b[0;32m     37\u001b[0m \u001b[0mplt\u001b[0m\u001b[1;33m.\u001b[0m\u001b[0mtitle\u001b[0m\u001b[1;33m(\u001b[0m\u001b[1;34m'First Order Filter Design: ADALINE Design Based on Iterative Solution'\u001b[0m\u001b[1;33m)\u001b[0m\u001b[1;33m\u001b[0m\u001b[1;33m\u001b[0m\u001b[0m\n\u001b[1;32m---> 38\u001b[1;33m \u001b[0mplt\u001b[0m\u001b[1;33m.\u001b[0m\u001b[0mshow\u001b[0m\u001b[1;33m(\u001b[0m\u001b[1;33m)\u001b[0m\u001b[1;33m(\u001b[0m\u001b[1;33m)\u001b[0m\u001b[1;33m\u001b[0m\u001b[1;33m\u001b[0m\u001b[0m\n\u001b[0m\u001b[0;32m     39\u001b[0m \u001b[1;33m\u001b[0m\u001b[0m\n\u001b[0;32m     40\u001b[0m \u001b[1;33m\u001b[0m\u001b[0m\n",
      "\u001b[1;31mTypeError\u001b[0m: 'NoneType' object is not callable"
     ]
    }
   ],
   "source": [
    "\"\"\"iterations=100000\n",
    "learningRate=0.0005\n",
    "for i in range(iterations):\n",
    "    j=np.random.randint(1,n) #valeur aleatoire entre 1 et la taille de notre signal contaminé t\n",
    "    J=np.concatenate((J,[j])) #construit sur l'axis j\n",
    "    w=w+2*learningRate*e[j]*V[:,j] #ajustement du poids en fonction des entrées du signal\n",
    "    a=np.transpose(w).dot(V) #construction des valeurs de sortie du reseau ADALINE\n",
    "    e=T-a #construction du signal filtré \n",
    "    \n",
    "plt.figure(2)#initialisation de deux courbes\n",
    "plt.plot(S[1:90]) #affichage du signal pur\n",
    "plt.plot(e) #affichage du signal filtré\n",
    "plt.legend((\"original signal\",\"signal filtre\"),loc=\"upper right\")\n",
    "plt.xlabel(\"nombre d'echantillons\")\n",
    "plt.ylabel(\"amplitude des echantillons de signal\")\n",
    "plt.show\"\"\"\n",
    "\n",
    "N = 100000\n",
    "alpha = 0.0005\n",
    "V=np.array(([v[2:90], v[1:89], v[0:88]])) #input signal\n",
    "w=np.array([0, 0, 0])  # initial values of synaptic weights\n",
    "b=0\n",
    "a=np.zeros(len(t)-2)\n",
    "T=t[2:90]\n",
    "e=T-a\n",
    "for i in range(N):\n",
    "    j=np.random.randint(1,n-1)\n",
    "    J=np.concatenate((J,[j]))\n",
    "    w=w+2*alpha*e[j]*V[:,j]\n",
    "    a=np.transpose(w).dot(V)\n",
    "    e=T-a\n",
    "\n",
    "plt.figure(3)\n",
    "plt.plot(S[2:90])\n",
    "plt.plot(e)\n",
    "plt.legend(('original'))\n",
    "plt.title('First Order Filter Design: ADALINE Design Based on Iterative Solution')\n",
    "plt.show()()\n",
    "\n",
    "\n",
    "\n",
    "\n",
    "print(\"poid en solution optimal = \",w1)\n",
    "print(\"poids gradient =\",w)\n",
    "\n",
    "\n",
    "\n",
    "    \n",
    "    "
   ]
  },
  {
   "cell_type": "code",
   "execution_count": 15,
   "metadata": {},
   "outputs": [
    {
     "name": "stdout",
     "output_type": "stream",
     "text": [
      "poid en solution optimal =  [-0.03931743 -0.09834269]\n",
      "poids gradient = [-0.04342341 -0.10060289]\n"
     ]
    }
   ],
   "source": []
  },
  {
   "cell_type": "markdown",
   "metadata": {},
   "source": [
    "# Filter Design: ADALINE Design based using KERAS\n",
    "- The optimal solution is obtained by minimizing **least mean square** (LMS) between the unfiltered signal $T(k)$ considered as target signal and the output of ADALINE network. \n",
    "- KERAS allow to define optimization algorithms and paremetters\n"
   ]
  },
  {
   "cell_type": "code",
   "execution_count": null,
   "metadata": {},
   "outputs": [],
   "source": []
  },
  {
   "cell_type": "markdown",
   "metadata": {},
   "source": [
    " # Simulate ADALINE\n",
    " - obtain the synaptic weights from network model via **model.get_weights()** and propagate the input signal to the ADALINE output **$a(t)$** using the mathematical expression: $a(k)=w_{11}v(k)+w_{12}v(k-1)$ or  $a(k)=w_{11}v(k)+w_{12}v(k-1)+ w_{13}v(k-2)$ corresponding to first or second order ADALINE flter. "
   ]
  },
  {
   "cell_type": "code",
   "execution_count": null,
   "metadata": {},
   "outputs": [],
   "source": []
  },
  {
   "cell_type": "code",
   "execution_count": null,
   "metadata": {},
   "outputs": [],
   "source": []
  },
  {
   "cell_type": "markdown",
   "metadata": {},
   "source": [
    "# Simulate ADALINE\n",
    " - propagate the input signal using  KERAS command **model.predict(input_NN)** in order to obtain the ADALINE output **$a(t)$**"
   ]
  },
  {
   "cell_type": "code",
   "execution_count": null,
   "metadata": {},
   "outputs": [],
   "source": []
  },
  {
   "cell_type": "code",
   "execution_count": null,
   "metadata": {},
   "outputs": [],
   "source": []
  }
 ],
 "metadata": {
  "celltoolbar": "Éditer les Méta-Données",
  "kernelspec": {
   "display_name": "Python 3",
   "language": "python",
   "name": "python3"
  },
  "language_info": {
   "codemirror_mode": {
    "name": "ipython",
    "version": 3
   },
   "file_extension": ".py",
   "mimetype": "text/x-python",
   "name": "python",
   "nbconvert_exporter": "python",
   "pygments_lexer": "ipython3",
   "version": "3.8.5"
  }
 },
 "nbformat": 4,
 "nbformat_minor": 2
}
